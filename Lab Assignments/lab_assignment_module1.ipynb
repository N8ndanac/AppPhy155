{
  "nbformat": 4,
  "nbformat_minor": 0,
  "metadata": {
    "colab": {
      "provenance": []
    },
    "kernelspec": {
      "name": "python3",
      "display_name": "Python 3"
    }
  },
  "cells": [
    {
      "cell_type": "markdown",
      "metadata": {
        "id": "G0BcK0H_G1Iu"
      },
      "source": [
        "# **AP155 Lab Assignment**\n",
        "## Module 1: Integrals and Derivatives\n",
        "\n",
        "_Instructions_: Answer each problem as completely as you can. Discuss **all** your answers as clearly and concisely as possible.\n",
        "\n",
        "_Scoring Criteria_: 50% - *correctness of code*; 50% - *discussion of the code and results*. Maximum score is **100 points**.\n",
        "\n",
        "\n"
      ]
    },
    {
      "cell_type": "markdown",
      "metadata": {
        "id": "PeHZ9kP8JaVR"
      },
      "source": [
        "### Student Information\n",
        "\n",
        "_Full Name (Last Name, First Name)_: Nathan&nbsp;Gabriel&nbsp;C.&nbsp;Danac\\\n",
        "_Student No._: 2021-12517\\\n",
        "_Section_: THU-HX-3"
      ]
    },
    {
      "cell_type": "markdown",
      "metadata": {
        "id": "Hc183co-J4eI"
      },
      "source": [
        "### Submission Information\n",
        "\n",
        "_Date and Time Submitted (most recent upload)_:\n",
        "\n",
        "**HONOR PLEDGE** I affirm that I have upheld the highest principles of honesty and integrity in my academic work and that this lab assignment is my own work.\n",
        "\n",
        "**Sign here with your full name: Nathan Gabriel C. Danac**"
      ]
    },
    {
      "cell_type": "markdown",
      "metadata": {
        "id": "X1UGsRpW-eQs"
      },
      "source": [
        "### Grading Information (c/o Lab Instructor)\n",
        "\n",
        "TOTAL SCORE: **XX**/100\n",
        "\n",
        "Score breakdown:\n",
        "* Problem 1 - XX/30\n",
        "* Problem 2 - XX/30\n",
        "* Problem 3 - XX/40\n",
        "\n",
        "_Date and Time Scored (MM/DD/YYYY HH:MM AM/PM):_"
      ]
    },
    {
      "cell_type": "code",
      "source": [
        "#Importing numpy because I think we'll be doing a lot of math.\n",
        "import numpy as np\n",
        "\n",
        "#Writing a function to find the percent error, since we'll be doing that often.\n",
        "def pct_error(expt, theo):\n",
        "  return abs((expt - theo)/theo)"
      ],
      "metadata": {
        "id": "VbFLdzgqahNM"
      },
      "execution_count": null,
      "outputs": []
    },
    {
      "cell_type": "markdown",
      "metadata": {
        "id": "LxWuqiCFMsEh"
      },
      "source": [
        "### PROBLEM 1\n",
        "**Integration using the trapezoidal rule and Simpson's rule**\n",
        "\n",
        "Calculate the integral of the function $ 2x^4 + 3x^2 + 4x + 5$ from $x=0$ to $x=5$.\n",
        "\n",
        "1. Do the numerical calculation using the trapezoidal rule with 10, 100, and 1,000 slices. Describe each step of the calculation clearly and concisely. *(10 pts.)*\n",
        "\n",
        "2. What are the percentage errors of your answers in (1)? *(10 pts.)*\n",
        "\n",
        "3. Repeat the calculation using Simpson's rule with 10, 100, and 1,000 slices. Describe each step of the calculation clearly and concisely. *(5 pts.)*\n",
        "\n",
        "4. What are the percentage errors of your answers in (3)? How do they compare with the results from (1) for the same number of slices? *(5 pts.)*"
      ]
    },
    {
      "cell_type": "markdown",
      "source": [
        "The first step is to define the function $f(x)$.\n",
        "\n",
        "Evaluating the definite integral, we can also find the theoretical value:\n",
        "$$\\int_0^5 2x^4 + 3x^2 + 4x + 5 dx = 1450$$\n",
        "\n"
      ],
      "metadata": {
        "id": "kijaLfLzWbft"
      }
    },
    {
      "cell_type": "code",
      "source": [
        "#Defining f(x)\n",
        "def f(x):\n",
        "  return 2*x**4 + 3*x**2 + 4*x + 5\n",
        "\n",
        "#Setting our theoretical value\n",
        "num = 1450"
      ],
      "metadata": {
        "id": "QPP1HvYYedC3"
      },
      "execution_count": null,
      "outputs": []
    },
    {
      "cell_type": "markdown",
      "source": [
        "The first step is to get the width $h$ of each slice.\n",
        "$$h = \\frac{b - a}{N}$$\n",
        "The area of each slice is given by\n",
        "$$A_k = \\frac{1}{2}h[f(a + (k - 1)h) + f(a + kh)]$$\n",
        "We can find the integral, or the area under the entire curve, by taking the summation of the areas of the slices\n",
        "$$\\sum_{k = 1}^N A_k = h[\\frac{1}{2}f(a)+\\frac{1}{2}f(b)+\\sum_{k=1}^N f(a + kh)]$$\n",
        "We can evaluate this summation in three steps\n",
        "1.   Set the initial value $s = \\frac{1}{2}f(a) + \\frac{1}{2}f(b)$\n",
        "2.   Add the summation $\\sum_{k=1}^N f(a + kh)$ to $s$\n",
        "3.   Multiply $s * h$\n",
        "\n"
      ],
      "metadata": {
        "id": "N7cne4wdGrZk"
      }
    },
    {
      "cell_type": "code",
      "metadata": {
        "id": "hMqWOsbIMoUh"
      },
      "source": [
        "def trap(a, b, func, N):\n",
        "  #Find the width of each slice\n",
        "  h = (b - a)/N\n",
        "\n",
        "  #Set the intial value of s\n",
        "  s = 0.5*func(a) + 0.5*func(b)\n",
        "\n",
        "  #Add the summation\n",
        "  for i in range(1, N):\n",
        "    s += func(a+i*h)\n",
        "\n",
        "  #Multiply by h\n",
        "  return h*s\n"
      ],
      "execution_count": null,
      "outputs": []
    },
    {
      "cell_type": "markdown",
      "source": [
        "We can write a function to repeat the integral using a particular method and a different number of slices, as well as evaluate the percent error."
      ],
      "metadata": {
        "id": "Wjql95fHL_II"
      }
    },
    {
      "cell_type": "code",
      "source": [
        "#No. of slices\n",
        "slices_arr = [10, 100, 1000]\n",
        "\n",
        "def integrate(a, b, integrand, method, slices):\n",
        "  for k in slices:\n",
        "    #Evaluate the integral\n",
        "    I = method(0, 5, integrand, k)\n",
        "    #Take the % error\n",
        "    err = pct_error(I, num)\n",
        "\n",
        "    #Output the integral and the percent error\n",
        "    print(\"Using \" + str(k) + \" slices, the integral of f(x) is \" + str(I) + \", which has a percent error of \" + str(err) + \"%\")\n",
        "\n",
        "  return\n",
        "\n",
        "#Using this function for the trapezoidal method\n",
        "integrate(0, 5, f, trap, slices_arr)"
      ],
      "metadata": {
        "colab": {
          "base_uri": "https://localhost:8080/"
        },
        "id": "cZ6_4Ml7JI0Q",
        "outputId": "bb647ac9-0db8-4f6e-8c04-9e3c7875b573"
      },
      "execution_count": null,
      "outputs": [
        {
          "output_type": "stream",
          "name": "stdout",
          "text": [
            "Using 10 slices, the integral of f(x) is 1471.4375, which has a percent error of 0.01478448275862069%\n",
            "Using 100 slices, the integral of f(x) is 1450.2145812500003, which has a percent error of 0.00014798706896569988%\n",
            "Using 1000 slices, the integral of f(x) is 1450.0021458331234, which has a percent error of 1.4798849127240327e-06%\n"
          ]
        }
      ]
    },
    {
      "cell_type": "markdown",
      "source": [
        "The next method, Simpson's rule, is described by\n",
        "$$\\int_{-h}^h (Ax^2 + Bx + C)\\ dx = \\frac{2}{3}Ah^2 + 2Ch = \\frac{1}{3}h[f(-h) + 4f(0) + f(h)]$$\n",
        "Approximating this integral,\n",
        "$$I(a, b) = \\frac{1}{3}h[f(a) + f(b) + 4\\sum_{k\\ odd} f(a + kh) + 2\\sum_{k\\ even} f(a + kh)$$\n",
        "We can evaluate this integral using the following steps:\n",
        "1.   Get the width $h$ of each slice\n",
        "2.   Set the initial value $s = f(a) + f(b)$\n",
        "3.   Add the summation for odd values of $k$ to $s$\n",
        "4.   Add the summation for even values of $k$ to $s$\n",
        "5.   Multiply $s * \\frac{1}{3}h$\n",
        "\n"
      ],
      "metadata": {
        "id": "gzokwmElM72M"
      }
    },
    {
      "cell_type": "code",
      "source": [
        "def simp(a, b, func, N):\n",
        "  #Get the width of each slice\n",
        "  h = (b-a)/N\n",
        "\n",
        "  #Set initial value of s\n",
        "  s = func(a) + func(b)\n",
        "  #Evaluate the summation for odd values\n",
        "  for k in range(1,N,2):\n",
        "      s += 4*func(a+k*h)\n",
        "  #Evaluate the summation for even values\n",
        "  for k in range(2,N,2):\n",
        "      s += 2*func(a+k*h)\n",
        "  #Multiply by h/3\n",
        "  s *= (1./3)*h\n",
        "  return(s)\n",
        "\n",
        "#Use the integrate function defined earlier\n",
        "integrate(0, 5, f, simp, slices_arr)"
      ],
      "metadata": {
        "colab": {
          "base_uri": "https://localhost:8080/"
        },
        "id": "CV1jU4DfXbrE",
        "outputId": "182594ca-8d2d-4adc-b670-476ff4c54659"
      },
      "execution_count": null,
      "outputs": [
        {
          "output_type": "stream",
          "name": "stdout",
          "text": [
            "Using 10 slices, the integral of f(x) is 1450.0833333333333, which has a percent error of 5.7471264367763824e-05%\n",
            "Using 100 slices, the integral of f(x) is 1450.0000083333337, which has a percent error of 5.747126657485657e-09%\n",
            "Using 1000 slices, the integral of f(x) is 1450.000000000834, which has a percent error of 5.75176994155707e-13%\n"
          ]
        }
      ]
    },
    {
      "cell_type": "markdown",
      "metadata": {
        "id": "m2a6sg90R-NX"
      },
      "source": [
        "### PROBLEM 2\n",
        "\n",
        "**Integration using Gaussian quadrature**\n",
        "\n",
        "Calculate the integral from Problem 1 using the Gaussian quadrature method: $ 2x^4 + 3x^2 + 4x + 5$ from $x=0$ to $x=5$.\n",
        "\n",
        "1. Define the function $\\tt gaussxw$ from Appendix E of the Newman text (and run the cell). *(10 pts.)*\n",
        "\n",
        "2. Calculate the integral using the $\\tt gaussxw$ function in (1) and number of slices $N = 3$. Describe each step in the calculation clearly and concisely. *(20 pts.)*"
      ]
    },
    {
      "cell_type": "markdown",
      "source": [
        "Defining the functions gaussxw and gaussxwab from Appendix E of Newmann,"
      ],
      "metadata": {
        "id": "a-N7J5xlMjn0"
      }
    },
    {
      "cell_type": "code",
      "metadata": {
        "id": "YO_PDJ4VIVs5"
      },
      "source": [
        "from numpy import ones,copy,cos,tan,pi,linspace\n",
        "\n",
        "def gaussxw(N):\n",
        "  # Initial approximation to roots of the Legendre polynomial\n",
        "  a = linspace(3,4*N-1,N)/(4*N+2)\n",
        "  x = cos(pi*a+1/(8*N*N*tan(a)))\n",
        "  # Find roots using Newton's method\n",
        "  epsilon = 1e-15\n",
        "  delta = 1.0\n",
        "  while delta>epsilon:\n",
        "    p0 = ones(N,float)\n",
        "    p1 = copy(x)\n",
        "    for k in range(1,N):\n",
        "      p0,p1 = p1,((2*k+1)*x*p1-k*p0)/(k+1)\n",
        "    dp = (N+1)*(p0-x*p1)/(1-x*x)\n",
        "    dx = p1/dp\n",
        "    x -= dx\n",
        "    delta= max(abs(dx))\n",
        "  # Calculate the weights\n",
        "  w = 2*(N+1)*(N+1)/(N*N*(1-x*x)*dp*dp)\n",
        "  return x,w\n",
        "\n",
        "def gaussxwab(a, b, N):\n",
        "  x,w = gaussxw(N)\n",
        "  return 0.5*(b-a)*x+0.5*(b+a),0.5*(b-a)*w"
      ],
      "execution_count": null,
      "outputs": []
    },
    {
      "cell_type": "markdown",
      "source": [
        "In Gaussian quadrature, we can evaluate an integral using the weights $x_k'$ and $w_k'$\n",
        "$$\\int_a^b f(x)\\ dx ≈ \\sum_{k = 1}^N w_k'f(x_k')$$"
      ],
      "metadata": {
        "id": "8eqRNSANMrMA"
      }
    },
    {
      "cell_type": "code",
      "source": [
        "def gauss(a, b, func, N):\n",
        "  #Find the weights xp and wp\n",
        "  xp, wp = gaussxwab(a, b, N)\n",
        "\n",
        "  #Evaluating the summation\n",
        "  return sum(wp * func(xp))\n",
        "\n",
        "integrate(0, 5, f, gauss, [3])"
      ],
      "metadata": {
        "colab": {
          "base_uri": "https://localhost:8080/"
        },
        "id": "INhJ4na8Jd31",
        "outputId": "449a3648-ce50-4b4a-99e5-7507b4276348"
      },
      "execution_count": 16,
      "outputs": [
        {
          "output_type": "stream",
          "name": "stdout",
          "text": [
            "Using 3 slices, the integral of f(x) is 1450.000000000002, which has a percent error of 1.4112848820614403e-15%\n"
          ]
        }
      ]
    },
    {
      "cell_type": "markdown",
      "metadata": {
        "id": "HceOjNu-VfN9"
      },
      "source": [
        "### PROBLEM 3\n",
        "\n",
        "**Physics Application: Anharmonic Oscillator**\n",
        "\n",
        "_Refer to Exercise 5.10 of the Newman text._ Consider an anharmonic oscillator with potential $V(x)$ symmetric about $x = 0$. Let us set our anharmonic oscillator going with amplitude $a$. That is, at $t = 0$ we release it from rest at position $x = a$ and it swings back towards the origin. Then at $t = 0$ we have $dx/dt = 0$ and the equation for its total energy becomes $E = V(a)$, i.e., the total energy of the particle is given in terms of the amplitude.\n",
        "\n",
        "When the particle reaches the origin for the first time, it has gone through one quarter of a period of the oscillator. The period $T$ is given by: $$ T = \\sqrt{8m} \\int_0^a \\frac{dx}{\\sqrt{V(a)-V(x)}}. $$\n",
        "\n",
        "1. Suppose the potential is $V(x) = x^4$ and the mass of the particle is $m = 1$. Write a Python function that calculates the period of the oscillator for given amplitude a using Gaussian quadrature with $N = 20$ points. Describe each step clearly and concisely. *(20 pts.)*\n",
        "\n",
        "2. Use your function to make a graph of the period for amplitudes ranging from $a = 0$ to $a = 2$. Describe the behavior you find and explain these results clearly and concisely. *(20 pts.)*"
      ]
    },
    {
      "cell_type": "markdown",
      "source": [
        "Since we set $m = 1$, we can simplify our function\n",
        "$$T(a) = \\sqrt{8}\\int_0^a \\frac{dx}{\\sqrt{V(a) - V(x)}}$$\n",
        "\n",
        "To evaluate this integral, we can just use our function for Gaussian quadrature from the previous problem. However, we have to define our integrand again, since it is no longer $f(x)$ and is instead dependent on the amplitude $a$.\n",
        "\n"
      ],
      "metadata": {
        "id": "9p86aTUFQqaC"
      }
    },
    {
      "cell_type": "code",
      "metadata": {
        "id": "p28JF-OQYock"
      },
      "source": [
        "#Define the potential function\n",
        "def V(x):\n",
        "  return x**4\n",
        "\n",
        "#Define the period function\n",
        "def T(a):\n",
        "  #We need to define a function for the integrand within our function for the period, since it is dependent on the amplitude\n",
        "  def integrand(x):\n",
        "    return 1/np.sqrt(V(a) - V(x))\n",
        "\n",
        "  #Evaluate the period using the gauss function from the previous problem\n",
        "  return np.sqrt(8) * gauss(0, a, integrand, 20)"
      ],
      "execution_count": null,
      "outputs": []
    },
    {
      "cell_type": "markdown",
      "source": [
        "Lastly, creating the graph for amplitude vs. time,"
      ],
      "metadata": {
        "id": "0Bi1knKARMnH"
      }
    },
    {
      "cell_type": "code",
      "source": [
        "#Visualizing!\n",
        "from matplotlib import pyplot as plt\n",
        "\n",
        "def graph(a, b, N):\n",
        "  #Create the initial array for the amplitudes\n",
        "  x = np.zeros(N)\n",
        "  #Create the initial array for the periods\n",
        "  y = np.zeros(N)\n",
        "\n",
        "  #Find the interval between each data point\n",
        "  h = (b - a)/(N - 1)\n",
        "\n",
        "  #Define the amplitude and period at each data point\n",
        "  for i in range(N):\n",
        "    #Provide even spacing between all chosen points of amplitude\n",
        "    j = a + i*h\n",
        "    x[i] = j\n",
        "    #Evaluate the period at each amplitude\n",
        "    y[i] = T(j)\n",
        "\n",
        "  #Graphing\n",
        "  plt.plot(x, y, \"-o\")\n",
        "  #Setting axis labels and chart title\n",
        "  plt.xlabel(\"Period\")\n",
        "  plt.ylabel(\"Amplitude\")\n",
        "  plt.title(\"Period vs. Amplitude for an Anharmonic Oscillator\")\n",
        "\n",
        "  return\n",
        "\n",
        "#Running our function\n",
        "graph(0, 2, 50)\n",
        "\n",
        "#Displaying our graph\n",
        "plt.show()"
      ],
      "metadata": {
        "colab": {
          "base_uri": "https://localhost:8080/",
          "height": 541
        },
        "id": "h4ciKibrMf_7",
        "outputId": "4a1d908b-6ed1-4911-e202-923eb1dd392c"
      },
      "execution_count": null,
      "outputs": [
        {
          "output_type": "stream",
          "name": "stderr",
          "text": [
            "<ipython-input-12-6e3174094298>:9: RuntimeWarning: divide by zero encountered in divide\n",
            "  return 1/np.sqrt(V(a) - V(x))\n",
            "<ipython-input-9-6f7f05759eac>:6: RuntimeWarning: invalid value encountered in multiply\n",
            "  return sum(wp * func(xp))\n"
          ]
        },
        {
          "output_type": "display_data",
          "data": {
            "text/plain": [
              "<Figure size 640x480 with 1 Axes>"
            ],
            "image/png": "[encoded data removed]"
          },
          "metadata": {}
        }
      ]
    }
  ]
}