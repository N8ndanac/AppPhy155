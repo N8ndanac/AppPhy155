{
  "nbformat": 4,
  "nbformat_minor": 0,
  "metadata": {
    "colab": {
      "provenance": []
    },
    "kernelspec": {
      "name": "python3",
      "display_name": "Python 3"
    }
  },
  "cells": [
    {
      "cell_type": "markdown",
      "metadata": {
        "id": "G0BcK0H_G1Iu"
      },
      "source": [
        "# **AP155 Lab Assignment**\n",
        "## Module 2: Solution of Linear and Nonlinear Equations\n",
        "\n",
        "_Instructions_: Answer each problem as completely as you can. Discuss **all** your answers as clearly and concisely as possible.\n",
        "\n",
        "_Scoring Criteria_: 50% - *correctness of code*; 50% - *discussion of the code and results*. Maximum score is **100 points**.\n",
        "\n"
      ]
    },
    {
      "cell_type": "markdown",
      "metadata": {
        "id": "PeHZ9kP8JaVR"
      },
      "source": [
        "### Student Information\n",
        "\n",
        "_Full Name (Last Name, First Name)_: DANAC, Nathan Gabriel C.\\\n",
        "_Student No._: 2021 - 12517\\\n",
        "_Section_: THU-HX-3"
      ]
    },
    {
      "cell_type": "markdown",
      "metadata": {
        "id": "Hc183co-J4eI"
      },
      "source": [
        "### Submission Information\n",
        "\n",
        "_Date and Time Submitted (most recent upload)_:\n",
        "\n",
        "**HONOR PLEDGE** I affirm that I have upheld the highest principles of honesty and integrity in my academic work and that this lab assignment is my own work.\n",
        "\n",
        "**Sign here with your full name:** Nathan Gabriel C. Danac"
      ]
    },
    {
      "cell_type": "markdown",
      "metadata": {
        "id": "4LUwfsfMBmvd"
      },
      "source": [
        "### Grading Information (c/o Lab Instructor)\n",
        "\n",
        "TOTAL SCORE: **XX**/100\n",
        "\n",
        "Score breakdown:\n",
        "* Problem 1 - XX/30\n",
        "* Problem 2 - XX/30\n",
        "* Problem 3 - XX/40\n",
        "\n"
      ]
    },
    {
      "cell_type": "markdown",
      "source": [
        "Importing our favorite package"
      ],
      "metadata": {
        "id": "9QH8vXWlJpby"
      }
    },
    {
      "cell_type": "code",
      "source": [
        "import numpy as np"
      ],
      "metadata": {
        "id": "RCjABegOaa-3"
      },
      "execution_count": 1,
      "outputs": []
    },
    {
      "cell_type": "markdown",
      "metadata": {
        "id": "kBX9EyMLOnXj"
      },
      "source": [
        "### PROBLEM 1\n",
        "\n",
        "**Solve for eigenvalues and eigenvectors of a symmetric matrix**\n",
        "\n",
        "1. Use numpy's $\\tt linalg$ package to find the eigenvalues and eigenvectors of the ff. symmetrix matrix *(15 pts.)*:\n",
        "\n",
        "$ \\begin{equation}\n",
        "{\\bf A} =\n",
        "\\begin{pmatrix}\n",
        "8 & -2 & -20 \\\\\n",
        "-2 & -3 & -9 \\\\\n",
        "-20 & -9 & -3\n",
        "\\end{pmatrix} \\end{equation} $\n",
        "\n",
        "2. Check your answer numerically; that is, check that $\\bf AV = VD$, where the $N$ x $N$ matrix $\\bf V$ has the eigenvectors as its columns and $\\bf D$ is the diagonal matrix with the eigenvalues $\\lambda_i$ as its diagonal entries. *(15 pts.)*"
      ]
    },
    {
      "cell_type": "code",
      "metadata": {
        "id": "GABjwlXCR97i",
        "colab": {
          "base_uri": "https://localhost:8080/"
        },
        "outputId": "733b715b-7f5b-469f-c465-0e1afe66ac63"
      },
      "source": [
        "#Import array and eigh from numpy\n",
        "from numpy import array\n",
        "from numpy.linalg import eigh\n",
        "\n",
        "#Defining the given matrix A\n",
        "A = array([[8, -2, -20], [-2, -3, -9], [-20, -9, -3]], float)\n",
        "\n",
        "#Using numpy.linalg.eigh to find the eigenvalues and eigenvectors of A as x and v, respectively\n",
        "x, V = eigh(A)\n",
        "#Creating a diagonal matrix with the eigenvalues as the entries\n",
        "D = np.diag(x)\n",
        "\n",
        "#Print the eigenvalues and eigenvectors\n",
        "print(x, V)"
      ],
      "execution_count": 2,
      "outputs": [
        {
          "output_type": "stream",
          "name": "stdout",
          "text": [
            "[-21.99606195   0.16021522  23.83584674] [[ 0.52496527  0.36793396 -0.76748685]\n",
            " [ 0.40892672 -0.89987151 -0.15169114]\n",
            " [ 0.74645187  0.2342133   0.62285932]]\n"
          ]
        }
      ]
    },
    {
      "cell_type": "markdown",
      "source": [
        "To prove $AV = VD$, their difference must be zero. $$AV - VD = 0$$"
      ],
      "metadata": {
        "id": "81zEX_-D7-Ca"
      }
    },
    {
      "cell_type": "code",
      "source": [
        "print(A@V - V@D)"
      ],
      "metadata": {
        "colab": {
          "base_uri": "https://localhost:8080/"
        },
        "id": "eBLmZbTw78aP",
        "outputId": "6c4cdbee-58fc-488b-c026-152d05881c02"
      },
      "execution_count": 3,
      "outputs": [
        {
          "output_type": "stream",
          "name": "stdout",
          "text": [
            "[[ 1.77635684e-15  5.96744876e-16  0.00000000e+00]\n",
            " [-1.77635684e-15 -1.05471187e-15  1.33226763e-15]\n",
            " [ 3.55271368e-15 -4.37150316e-16  8.88178420e-15]]\n"
          ]
        }
      ]
    },
    {
      "cell_type": "markdown",
      "source": [
        "The resulting array is not quite zero, but the values are very small. This is the result of truncation errors with the dot product operation."
      ],
      "metadata": {
        "id": "8XZrDe1t8Ktj"
      }
    },
    {
      "cell_type": "code",
      "source": [
        "#Use np.around() to account for truncation errors\n",
        "print(np.around(A@V, 10) - np.around(V@D,10))"
      ],
      "metadata": {
        "colab": {
          "base_uri": "https://localhost:8080/"
        },
        "id": "tLaJYJ8z76h9",
        "outputId": "d1f3a5f4-2157-4f9c-9817-ae213f3a6bf0"
      },
      "execution_count": 4,
      "outputs": [
        {
          "output_type": "stream",
          "name": "stdout",
          "text": [
            "[[0. 0. 0.]\n",
            " [0. 0. 0.]\n",
            " [0. 0. 0.]]\n"
          ]
        }
      ]
    },
    {
      "cell_type": "markdown",
      "source": [
        "The output $AV - VD = 0$ reveals that $AV = VD$. Hence, we have verified the solution of the method."
      ],
      "metadata": {
        "id": "LecDO82V7slB"
      }
    },
    {
      "cell_type": "markdown",
      "metadata": {
        "id": "HceOjNu-VfN9"
      },
      "source": [
        "### PROBLEM 2\n",
        "\n",
        "**Solve a nonlinear equation using the relaxation method**\n",
        "\n",
        "Consider the equation $x=1- e^{-cx}$, where $c$ is a known parameter and $x$ is unknown. This equation arises in a variety of situations, including the physics of contact processes, mathematical models of epidemics, and the theory of random graphs.\n",
        "\n",
        "1. Write a program to solve this equation for $x$ using the relaxation method for the case $c = 2$. Calculate your solution to an accuracy of at least $10^{-6}$. *(10 pts.)*\n",
        "\n",
        "2. Modify your program to calculate the solution for values of $c$ from 0 to 3 in steps of 0.01. *(10 pts.)*\n",
        "\n",
        "3. Make a plot of $x$ as a function of $c$. Describe the different regimes that you see. *(10 pts.)*"
      ]
    },
    {
      "cell_type": "code",
      "metadata": {
        "id": "p28JF-OQYock",
        "colab": {
          "base_uri": "https://localhost:8080/"
        },
        "outputId": "4e28e5d6-1750-4e1f-d14c-198af747cedd"
      },
      "source": [
        "#Importing the exponential function from the math package\n",
        "from math import exp\n",
        "\n",
        "#Defining the accuracy,\n",
        "acc = 1e-6\n",
        "\n",
        "def relax(c):\n",
        "  #Setting our initial guess for x\n",
        "  x = 1\n",
        "  #Assuming the error is initially maximized,\n",
        "  err = 1\n",
        "\n",
        "  #Create a while loop that runs until the threshold for accuracy is satisfied.\n",
        "  while abs(err) > acc:\n",
        "    #Evaluating the new value of x\n",
        "    x2 = 1 - exp(-c*x)\n",
        "    #Computing the error\n",
        "    err = (x - x2)/(1 - (exp(2*x))/2)\n",
        "    #Replacing x\n",
        "    x = x2\n",
        "\n",
        "  return x\n",
        "\n",
        "#Evaluating for c = 2\n",
        "print(relax(2))"
      ],
      "execution_count": 5,
      "outputs": [
        {
          "output_type": "stream",
          "name": "stdout",
          "text": [
            "0.7968126311118457\n"
          ]
        }
      ]
    },
    {
      "cell_type": "markdown",
      "source": [
        "In the while loop above, the error becomes smaller with each iteration. As the distance betwen $x$ and $x'$ becomes smaller, we are approaching the true value of the root. Eventually, the \"error\" reaches a threshold value we are satisfied with, and we break the loop."
      ],
      "metadata": {
        "id": "UrJboq4N5QlV"
      }
    },
    {
      "cell_type": "markdown",
      "source": [
        "We can compute that an array running from $0$ to $3$ with interval $0.01$ is an evenly-spaced mesh with 300 divisions.\n",
        "$$300\\div 0.01 = 300$$"
      ],
      "metadata": {
        "id": "GaqGfVGGpY1X"
      }
    },
    {
      "cell_type": "code",
      "source": [
        "#Initializing the arrays\n",
        "y_arr = []\n",
        "#Creating an evenly spaced array from 0 to 3 with interval 0.01\n",
        "x_arr = np.linspace(0, 3, 300)\n",
        "\n",
        "#Filling in y_arr using the relax function\n",
        "for k in x_arr:\n",
        "  y_arr.append(relax(k))\n",
        "\n",
        "#Printing the last value\n",
        "print(x_arr[-1], y_arr[-1])"
      ],
      "metadata": {
        "colab": {
          "base_uri": "https://localhost:8080/"
        },
        "id": "b35fSTAorkZi",
        "outputId": "bc61dae8-d2f7-41cb-f8ab-b342f9b19724"
      },
      "execution_count": 6,
      "outputs": [
        {
          "output_type": "stream",
          "name": "stdout",
          "text": [
            "3.0 0.9404801006527044\n"
          ]
        }
      ]
    },
    {
      "cell_type": "code",
      "source": [
        "#Plotting using matplotlib.pyplot\n",
        "import matplotlib.pyplot as plt\n",
        "\n",
        "#Plotting the data\n",
        "plt.plot(x_arr, y_arr)\n",
        "#Setting axes labels\n",
        "plt.ylabel(\"$x$\")\n",
        "plt.xlabel(\"$c$\")\n",
        "#Setting title\n",
        "plt.title(\"Plot for $x = 1 - e^{-cx}$\")\n",
        "\n",
        "plt.show()"
      ],
      "metadata": {
        "colab": {
          "base_uri": "https://localhost:8080/",
          "height": 472
        },
        "id": "g_25nBFtjmQe",
        "outputId": "c4605a8b-cf13-439e-dd7c-905ffdefcb58"
      },
      "execution_count": 7,
      "outputs": [
        {
          "output_type": "display_data",
          "data": {
            "text/plain": [
              "<Figure size 640x480 with 1 Axes>"
            ],
            "image/png": "[encoded data removed]"
          },
          "metadata": {}
        }
      ]
    },
    {
      "cell_type": "markdown",
      "source": [
        "From the plot, we can see that the $x = 0$ for $0 \\leq c < 1$. This is expected mathematically, since $x = 0$ is the only valid solution for $0 \\leq c < 1$. The term $e^{-cx}$ on the RHS of the equation grows exponentially for $c < 1$. Hence, the growth of the $x$ term on the LHS cannot match it, leaving $x = 0$ as the only root.\n",
        "\n",
        "As the graph reaches $c > 1$, it begins to grow logarithmically. We can rewrite the equation as $$\\log(x - 1) = -cx$$\n",
        "\n",
        "Hence, this behavior is expected. It is important to note that $x = 0$ remains a valid solution for this interval, but given our initial guess, the program approaches the non-zero root. This is rather useful, since $x = 0$ is a trivial solution."
      ],
      "metadata": {
        "id": "zgQFNWaibHJ2"
      }
    },
    {
      "cell_type": "markdown",
      "metadata": {
        "id": "BY5x-mZsYoqG"
      },
      "source": [
        "### PROBLEM 3\n",
        "\n",
        "**Physics Application: Calculating the Lagrange point**\n",
        "\n",
        "_Refer to Exercise 6.16 of the Newman text._ The $L_1$ Lagrange point is the point between the Earth and the Moon at which a satellite will orbit the Earth in perfect synchrony with the Moon, staying always in between the two.\n",
        "\n",
        "Assuming circular orbits, and assuming that the Earth is much more massive than either the Moon or the satellite, the distance $r$ from the center of the Earth to the $L_1$ point satisfies\n",
        "$$ \\begin{equation}\n",
        "\\frac{GM}{r^2} - \\frac{Gm}{(R-r)^2} = \\omega^2 r,\n",
        "\\end{equation} $$\n",
        "where $R$ is the distance from the Earth to the Moon, $M$ and $m$ are the Earth and Moon masses, $G$ is Newton's gravitational constant, and $\\omega$ is the angular velocity of both the Moon and the satellite."
      ]
    },
    {
      "cell_type": "markdown",
      "metadata": {
        "id": "LlDDXIZ46CKU"
      },
      "source": [
        "Use Newton's method to solve for the distance r from the Earth to the $L_1$ point. Compute a solution accurate to at least four significant figures."
      ]
    },
    {
      "cell_type": "markdown",
      "source": [
        "In Newton's method, we estimate the root of the function $f(x)$ by taking its slope at $x$ and using that to find a point $x'$ closer to the root. Over a sufficient amount of repititions, we can find the root of $f(x)$.\n",
        "\n",
        "$$x' = x - \\frac{f(x)}{f'(x)}$$\n",
        "\n",
        "Let the function be $$L(r) = \\frac{GM}{r^2} - \\frac{Gm}{(R - r)^2} - \\omega^2 r$$\n",
        "Taking its derivative, $$L'(r) = -\\frac{2GM}{r^3} - \\frac{2GM}{(R - r)^3} - \\omega^2$$\n",
        "Substituting into the formula above, $$r' = r - \\frac{\\frac{GM}{r^2} - \\frac{Gm}{(R - r)^2} - \\omega^2 r}{-\\frac{2GM}{r^3} - \\frac{2GM}{(R - r)^3} - \\omega^2}$$\n",
        "Let\n",
        "$$\\Delta = \\frac{L(r)}{L'(r)} = \\frac{\\frac{GM}{r^2} - \\frac{Gm}{(R - r)^2} - \\omega^2 r}{-\\frac{2GM}{r^3} - \\frac{2GM}{(R - r)^3} - \\omega^2}$$\n",
        "so\n",
        "$$r' = r - \\Delta$$"
      ],
      "metadata": {
        "id": "Vf5FZ90wmcqC"
      }
    },
    {
      "cell_type": "code",
      "metadata": {
        "id": "Jiu5YAx6aMmq",
        "colab": {
          "base_uri": "https://localhost:8080/"
        },
        "outputId": "970079b6-1a34-4be7-995d-75d4321167f1"
      },
      "source": [
        "#Defining constants\n",
        "G = 6.674e-11\n",
        "M = 5.974e24\n",
        "m = 7.348e22\n",
        "R = 3.844e8\n",
        "w = 2.662e-6\n",
        "\n",
        "#Defining our desired accuracy\n",
        "acc = 1e-4\n",
        "\n",
        "#Defining a function to use Newton's method, with an initial guess r\n",
        "def newton(r):\n",
        "  #Initializing our delta variable\n",
        "  delta = 1.0\n",
        "\n",
        "  #Repeat until we reach the accuracy threshold\n",
        "  while abs(delta) > acc:\n",
        "    #From the formula shown above,\n",
        "    delta = ((G*M)/r**2 - (G*m)/(R - r)**2 - r*w**2)/(-2*(G*M)/r**3 - 2*(G*M)/(R - r)**3 - w**2)\n",
        "    #Updating our guess for the L1 point\n",
        "    r -= delta\n",
        "\n",
        "  return r\n",
        "\n",
        "#Use Newton's method with initial guess equal to half the distance between the Earth and its moon\n",
        "print(newton(R/2))"
      ],
      "execution_count": 8,
      "outputs": [
        {
          "output_type": "stream",
          "name": "stdout",
          "text": [
            "326045071.66044\n"
          ]
        }
      ]
    }
  ]
}